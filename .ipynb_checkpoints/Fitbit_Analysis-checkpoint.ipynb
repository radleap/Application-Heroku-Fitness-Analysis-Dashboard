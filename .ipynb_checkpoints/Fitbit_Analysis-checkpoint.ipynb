{
 "cells": [
  {
   "cell_type": "markdown",
   "metadata": {},
   "source": [
    "## Fitness Analysis & Dashboard - Reviewing Fitbit Data\n",
    "\n",
    "I downloaded the fitbit files from fitbit.com, taken from a Fitbit HR 3. This is nearly a year of data, and ~500mb of data. It is currently being stored in the .gitignore due to the size. Will compress/limit depending on the direction of the analysis.\n",
    "\n",
    "**Some initial questions and thoughts:**\n",
    "\n",
    "- coffee after 2pm affect?\n",
    "- lost weight?\n",
    "- daily workload?\n",
    "- workouts?\n",
    "- shopping habits?\n",
    "- heart rate through night vs morning, vs evening - overall seasonality\n",
    "\n",
    "**Initial Goals**\n",
    "- Create a Heroku application with the data in a dashboard\n",
    "- chech summary statistics"
   ]
  },
  {
   "cell_type": "markdown",
   "metadata": {},
   "source": [
    "### Importing Packages"
   ]
  },
  {
   "cell_type": "code",
   "execution_count": 1,
   "metadata": {},
   "outputs": [],
   "source": [
    "import numpy as np\n",
    "import pandas as pd\n",
    "import os\n",
    "import re\n",
    "import json\n",
    "\n",
    "import seaborn\n",
    "import matplotlib.pyplot as plt\n",
    "%matplotlib inline"
   ]
  },
  {
   "cell_type": "markdown",
   "metadata": {},
   "source": [
    "### Data Retrieval\n",
    "\n",
    "Current readtime is >5 minutes, will compress later. 12:46 to "
   ]
  },
  {
   "cell_type": "code",
   "execution_count": 2,
   "metadata": {},
   "outputs": [
    {
     "name": "stdout",
     "output_type": "stream",
     "text": [
      "329\n"
     ]
    },
    {
     "data": {
      "text/plain": [
       "['heart_rate-2018-11-01.json',\n",
       " 'heart_rate-2018-11-02.json',\n",
       " 'heart_rate-2018-11-03.json',\n",
       " 'heart_rate-2018-11-04.json',\n",
       " 'heart_rate-2018-11-05.json']"
      ]
     },
     "execution_count": 2,
     "metadata": {},
     "output_type": "execute_result"
    }
   ],
   "source": [
    "# Only files matching heart_rate pattern\n",
    "files = [f for f in os.listdir('user-site-export') if re.match(r'heart_rate*', f)]\n",
    "print(len(files))\n",
    "files[:5]"
   ]
  },
  {
   "cell_type": "code",
   "execution_count": 3,
   "metadata": {},
   "outputs": [
    {
     "name": "stdout",
     "output_type": "stream",
     "text": [
      "(4391373, 2)\n"
     ]
    },
    {
     "data": {
      "text/html": [
       "<div>\n",
       "<style scoped>\n",
       "    .dataframe tbody tr th:only-of-type {\n",
       "        vertical-align: middle;\n",
       "    }\n",
       "\n",
       "    .dataframe tbody tr th {\n",
       "        vertical-align: top;\n",
       "    }\n",
       "\n",
       "    .dataframe thead th {\n",
       "        text-align: right;\n",
       "    }\n",
       "</style>\n",
       "<table border=\"1\" class=\"dataframe\">\n",
       "  <thead>\n",
       "    <tr style=\"text-align: right;\">\n",
       "      <th></th>\n",
       "      <th>dateTime</th>\n",
       "      <th>value</th>\n",
       "    </tr>\n",
       "  </thead>\n",
       "  <tbody>\n",
       "    <tr>\n",
       "      <th>0</th>\n",
       "      <td>2018-11-02 03:56:44</td>\n",
       "      <td>{'bpm': 70, 'confidence': 0}</td>\n",
       "    </tr>\n",
       "    <tr>\n",
       "      <th>1</th>\n",
       "      <td>2018-11-02 03:57:03</td>\n",
       "      <td>{'bpm': 70, 'confidence': 1}</td>\n",
       "    </tr>\n",
       "    <tr>\n",
       "      <th>2</th>\n",
       "      <td>2018-11-02 03:57:18</td>\n",
       "      <td>{'bpm': 70, 'confidence': 1}</td>\n",
       "    </tr>\n",
       "    <tr>\n",
       "      <th>3</th>\n",
       "      <td>2018-11-02 03:57:23</td>\n",
       "      <td>{'bpm': 90, 'confidence': 1}</td>\n",
       "    </tr>\n",
       "    <tr>\n",
       "      <th>4</th>\n",
       "      <td>2018-11-02 03:57:28</td>\n",
       "      <td>{'bpm': 83, 'confidence': 1}</td>\n",
       "    </tr>\n",
       "  </tbody>\n",
       "</table>\n",
       "</div>"
      ],
      "text/plain": [
       "             dateTime                         value\n",
       "0 2018-11-02 03:56:44  {'bpm': 70, 'confidence': 0}\n",
       "1 2018-11-02 03:57:03  {'bpm': 70, 'confidence': 1}\n",
       "2 2018-11-02 03:57:18  {'bpm': 70, 'confidence': 1}\n",
       "3 2018-11-02 03:57:23  {'bpm': 90, 'confidence': 1}\n",
       "4 2018-11-02 03:57:28  {'bpm': 83, 'confidence': 1}"
      ]
     },
     "execution_count": 3,
     "metadata": {},
     "output_type": "execute_result"
    }
   ],
   "source": [
    "df = pd.DataFrame(columns=['dateTime', 'value']) #empty dataframe for initialization\n",
    "\n",
    "for i in range(len(files)):\n",
    "    with open(os.path.join('user-site-export',files[i]), \"r\") as read_file:\n",
    "        data = pd.read_json(read_file)\n",
    "    df = pd.concat([df,data])\n",
    "print(df.shape)\n",
    "df.head(5)"
   ]
  },
  {
   "cell_type": "markdown",
   "metadata": {},
   "source": [
    "### Date Wrangling and Formatting\n",
    "- df is the initial dataframe with standard index\n",
    "- ts is with datetime as the index"
   ]
  },
  {
   "cell_type": "code",
   "execution_count": 4,
   "metadata": {},
   "outputs": [],
   "source": [
    "# Extracting the bpm from the dictionary in the value column, creating 2 new columns\n",
    "df['bpm'] = df.value.apply(lambda x: x['bpm'])\n",
    "df['confidence'] = df.value.apply(lambda x: x['confidence'])"
   ]
  },
  {
   "cell_type": "code",
   "execution_count": 5,
   "metadata": {},
   "outputs": [],
   "source": [
    "df.drop('value', axis =1, inplace=True) # dropping value column"
   ]
  },
  {
   "cell_type": "code",
   "execution_count": 6,
   "metadata": {},
   "outputs": [
    {
     "data": {
      "text/html": [
       "<div>\n",
       "<style scoped>\n",
       "    .dataframe tbody tr th:only-of-type {\n",
       "        vertical-align: middle;\n",
       "    }\n",
       "\n",
       "    .dataframe tbody tr th {\n",
       "        vertical-align: top;\n",
       "    }\n",
       "\n",
       "    .dataframe thead th {\n",
       "        text-align: right;\n",
       "    }\n",
       "</style>\n",
       "<table border=\"1\" class=\"dataframe\">\n",
       "  <thead>\n",
       "    <tr style=\"text-align: right;\">\n",
       "      <th></th>\n",
       "      <th>dateTime</th>\n",
       "      <th>bpm</th>\n",
       "      <th>confidence</th>\n",
       "    </tr>\n",
       "  </thead>\n",
       "  <tbody>\n",
       "    <tr>\n",
       "      <th>0</th>\n",
       "      <td>2018-11-02 03:56:44</td>\n",
       "      <td>70</td>\n",
       "      <td>0</td>\n",
       "    </tr>\n",
       "    <tr>\n",
       "      <th>1</th>\n",
       "      <td>2018-11-02 03:57:03</td>\n",
       "      <td>70</td>\n",
       "      <td>1</td>\n",
       "    </tr>\n",
       "    <tr>\n",
       "      <th>2</th>\n",
       "      <td>2018-11-02 03:57:18</td>\n",
       "      <td>70</td>\n",
       "      <td>1</td>\n",
       "    </tr>\n",
       "    <tr>\n",
       "      <th>3</th>\n",
       "      <td>2018-11-02 03:57:23</td>\n",
       "      <td>90</td>\n",
       "      <td>1</td>\n",
       "    </tr>\n",
       "    <tr>\n",
       "      <th>4</th>\n",
       "      <td>2018-11-02 03:57:28</td>\n",
       "      <td>83</td>\n",
       "      <td>1</td>\n",
       "    </tr>\n",
       "  </tbody>\n",
       "</table>\n",
       "</div>"
      ],
      "text/plain": [
       "             dateTime  bpm  confidence\n",
       "0 2018-11-02 03:56:44   70           0\n",
       "1 2018-11-02 03:57:03   70           1\n",
       "2 2018-11-02 03:57:18   70           1\n",
       "3 2018-11-02 03:57:23   90           1\n",
       "4 2018-11-02 03:57:28   83           1"
      ]
     },
     "execution_count": 6,
     "metadata": {},
     "output_type": "execute_result"
    }
   ],
   "source": [
    "df.head(5)"
   ]
  },
  {
   "cell_type": "code",
   "execution_count": 7,
   "metadata": {},
   "outputs": [
    {
     "name": "stdout",
     "output_type": "stream",
     "text": [
      "<class 'pandas.core.frame.DataFrame'>\n",
      "Int64Index: 4391373 entries, 0 to 10873\n",
      "Data columns (total 3 columns):\n",
      "dateTime      datetime64[ns]\n",
      "bpm           int64\n",
      "confidence    int64\n",
      "dtypes: datetime64[ns](1), int64(2)\n",
      "memory usage: 134.0 MB\n"
     ]
    }
   ],
   "source": [
    "df.info()"
   ]
  },
  {
   "cell_type": "code",
   "execution_count": null,
   "metadata": {},
   "outputs": [],
   "source": [
    " stop error"
   ]
  },
  {
   "cell_type": "code",
   "execution_count": 10,
   "metadata": {},
   "outputs": [
    {
     "name": "stdout",
     "output_type": "stream",
     "text": [
      "<class 'pandas.core.frame.DataFrame'>\n",
      "DatetimeIndex: 4391373 entries, 2018-11-02 03:56:44 to 2020-01-05 04:59:50\n",
      "Data columns (total 2 columns):\n",
      "bpm           int64\n",
      "confidence    int64\n",
      "dtypes: int64(2)\n",
      "memory usage: 100.5 MB\n"
     ]
    },
    {
     "data": {
      "text/html": [
       "<div>\n",
       "<style scoped>\n",
       "    .dataframe tbody tr th:only-of-type {\n",
       "        vertical-align: middle;\n",
       "    }\n",
       "\n",
       "    .dataframe tbody tr th {\n",
       "        vertical-align: top;\n",
       "    }\n",
       "\n",
       "    .dataframe thead th {\n",
       "        text-align: right;\n",
       "    }\n",
       "</style>\n",
       "<table border=\"1\" class=\"dataframe\">\n",
       "  <thead>\n",
       "    <tr style=\"text-align: right;\">\n",
       "      <th></th>\n",
       "      <th>bpm</th>\n",
       "      <th>confidence</th>\n",
       "    </tr>\n",
       "    <tr>\n",
       "      <th>dateTime</th>\n",
       "      <th></th>\n",
       "      <th></th>\n",
       "    </tr>\n",
       "  </thead>\n",
       "  <tbody>\n",
       "    <tr>\n",
       "      <th>2018-11-02 03:56:44</th>\n",
       "      <td>70</td>\n",
       "      <td>0</td>\n",
       "    </tr>\n",
       "    <tr>\n",
       "      <th>2018-11-02 03:57:03</th>\n",
       "      <td>70</td>\n",
       "      <td>1</td>\n",
       "    </tr>\n",
       "    <tr>\n",
       "      <th>2018-11-02 03:57:18</th>\n",
       "      <td>70</td>\n",
       "      <td>1</td>\n",
       "    </tr>\n",
       "    <tr>\n",
       "      <th>2018-11-02 03:57:23</th>\n",
       "      <td>90</td>\n",
       "      <td>1</td>\n",
       "    </tr>\n",
       "    <tr>\n",
       "      <th>2018-11-02 03:57:28</th>\n",
       "      <td>83</td>\n",
       "      <td>1</td>\n",
       "    </tr>\n",
       "  </tbody>\n",
       "</table>\n",
       "</div>"
      ],
      "text/plain": [
       "                     bpm  confidence\n",
       "dateTime                            \n",
       "2018-11-02 03:56:44   70           0\n",
       "2018-11-02 03:57:03   70           1\n",
       "2018-11-02 03:57:18   70           1\n",
       "2018-11-02 03:57:23   90           1\n",
       "2018-11-02 03:57:28   83           1"
      ]
     },
     "execution_count": 10,
     "metadata": {},
     "output_type": "execute_result"
    }
   ],
   "source": [
    "# Make ts object with date as the index \n",
    "\n",
    "ts = df.set_index('dateTime')\n",
    "ts.info()\n",
    "ts.head()"
   ]
  },
  {
   "cell_type": "markdown",
   "metadata": {},
   "source": [
    "### Timeplot of BPM Daily Average\n",
    "- Resampling the ts dataframe to \"Daily\" average, rather than all readings\n",
    "- Below it show 328 resampled days with the earliest reading from 2018-11-02, and a shape of 430 indicates there is missing data. "
   ]
  },
  {
   "cell_type": "code",
   "execution_count": 19,
   "metadata": {},
   "outputs": [
    {
     "name": "stdout",
     "output_type": "stream",
     "text": [
      "<class 'pandas.core.frame.DataFrame'>\n",
      "DatetimeIndex: 430 entries, 2018-11-02 to 2020-01-05\n",
      "Freq: D\n",
      "Data columns (total 2 columns):\n",
      "bpm           328 non-null float64\n",
      "confidence    328 non-null float64\n",
      "dtypes: float64(2)\n",
      "memory usage: 10.1 KB\n"
     ]
    },
    {
     "data": {
      "image/png": "[encoded data removed]",
      "text/plain": [
       "<Figure size 1008x360 with 1 Axes>"
      ]
     },
     "metadata": {
      "needs_background": "light"
     },
     "output_type": "display_data"
    }
   ],
   "source": [
    "df_daily = ts.resample('D')\n",
    "df_daily_mean = df_daily.mean()\n",
    "df_daily_mean.info()\n",
    "\n",
    "df_daily_mean['bpm'].plot(figsize = (14,5));"
   ]
  },
  {
   "cell_type": "markdown",
   "metadata": {},
   "source": [
    "### Timeplot of BPM Monthly Average"
   ]
  },
  {
   "cell_type": "code",
   "execution_count": 21,
   "metadata": {},
   "outputs": [
    {
     "name": "stdout",
     "output_type": "stream",
     "text": [
      "<class 'pandas.core.frame.DataFrame'>\n",
      "DatetimeIndex: 15 entries, 2018-11-30 to 2020-01-31\n",
      "Freq: M\n",
      "Data columns (total 2 columns):\n",
      "bpm           13 non-null float64\n",
      "confidence    13 non-null float64\n",
      "dtypes: float64(2)\n",
      "memory usage: 360.0 bytes\n"
     ]
    },
    {
     "data": {
      "image/png": "[encoded data removed]",
      "text/plain": [
       "<Figure size 1008x360 with 1 Axes>"
      ]
     },
     "metadata": {
      "needs_background": "light"
     },
     "output_type": "display_data"
    }
   ],
   "source": [
    "df_monthly = ts.resample('M')\n",
    "df_monthly_mean = df_monthly.mean()\n",
    "df_monthly_mean.info()\n",
    "\n",
    "df_monthly_mean['bpm'].plot(figsize = (14,5));"
   ]
  },
  {
   "cell_type": "markdown",
   "metadata": {},
   "source": [
    "### Time Series Review\n",
    "\n",
    "These autocorrelations appear non-random, or significantly non-zero. Weekly seasonality at 7, 14, 21 stands out, as well as the initial few days near it. "
   ]
  },
  {
   "cell_type": "code",
   "execution_count": 23,
   "metadata": {},
   "outputs": [
    {
     "data": {
      "image/png": "[encoded data removed]",
      "text/plain": [
       "<Figure size 1008x360 with 1 Axes>"
      ]
     },
     "metadata": {
      "needs_background": "light"
     },
     "output_type": "display_data"
    }
   ],
   "source": [
    "from statsmodels.graphics.tsaplots import plot_pacf, plot_acf\n",
    "from matplotlib.pylab import rcParams\n",
    "\n",
    "rcParams['figure.figsize'] = 14, 5\n",
    "\n",
    "plot_acf(df_daily_mean[['bpm']].dropna(), lags=30);"
   ]
  },
  {
   "cell_type": "code",
   "execution_count": 24,
   "metadata": {},
   "outputs": [
    {
     "data": {
      "image/png": "[encoded data removed]",
      "text/plain": [
       "<Figure size 1008x360 with 1 Axes>"
      ]
     },
     "metadata": {
      "needs_background": "light"
     },
     "output_type": "display_data"
    }
   ],
   "source": [
    "from statsmodels.graphics.tsaplots import plot_pacf\n",
    "from matplotlib.pylab import rcParams\n",
    "\n",
    "rcParams['figure.figsize'] = 14, 5\n",
    "\n",
    "plot_pacf(df_daily_mean[['bpm']].dropna(), lags=100);"
   ]
  },
  {
   "cell_type": "markdown",
   "metadata": {},
   "source": [
    "### Sources\n",
    "- https://pandas.pydata.org/pandas-docs/version/0.15/visualization.html\n",
    "- https://machinelearningmastery.com/gentle-introduction-autocorrelation-partial-autocorrelation/"
   ]
  },
  {
   "cell_type": "code",
   "execution_count": null,
   "metadata": {},
   "outputs": [],
   "source": []
  }
 ],
 "metadata": {
  "kernelspec": {
   "display_name": "Python 3",
   "language": "python",
   "name": "python3"
  },
  "language_info": {
   "codemirror_mode": {
    "name": "ipython",
    "version": 3
   },
   "file_extension": ".py",
   "mimetype": "text/x-python",
   "name": "python",
   "nbconvert_exporter": "python",
   "pygments_lexer": "ipython3",
   "version": "3.7.5"
  }
 },
 "nbformat": 4,
 "nbformat_minor": 2
}
